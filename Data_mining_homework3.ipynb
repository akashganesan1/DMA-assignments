{
  "nbformat": 4,
  "nbformat_minor": 0,
  "metadata": {
    "colab": {
      "provenance": [],
      "authorship_tag": "ABX9TyMs9cx+uDUh1FE1P4+o8CV/",
      "include_colab_link": true
    },
    "kernelspec": {
      "name": "python3",
      "display_name": "Python 3"
    },
    "language_info": {
      "name": "python"
    }
  },
  "cells": [
    {
      "cell_type": "markdown",
      "metadata": {
        "id": "view-in-github",
        "colab_type": "text"
      },
      "source": [
        "<a href=\"https://colab.research.google.com/github/akashganesan1/Data-Mining-assignments/blob/main/Data_mining_homework3.ipynb\" target=\"_parent\"><img src=\"https://colab.research.google.com/assets/colab-badge.svg\" alt=\"Open In Colab\"/></a>"
      ]
    },
    {
      "cell_type": "code",
      "source": [
        "#@title Libraries\n",
        "import pandas as pd\n",
        "import numpy as np\n",
        "from google.colab import drive\n",
        "from sklearn.preprocessing import LabelEncoder\n",
        "from sklearn.tree import DecisionTreeClassifier\n",
        "from sklearn.model_selection import train_test_split\n",
        "from sklearn.metrics import accuracy_score\n",
        "from sklearn.linear_model import LogisticRegression\n",
        "from sklearn.ensemble import RandomForestClassifier\n",
        "from sklearn.model_selection import train_test_split\n",
        "from sklearn.metrics import accuracy_score\n",
        "import seaborn as sns\n",
        "import matplotlib.pyplot as plt\n",
        "from sklearn.metrics import r2_score,make_scorer"
      ],
      "metadata": {
        "id": "1QpDQGrnovlT"
      },
      "execution_count": 1,
      "outputs": []
    },
    {
      "cell_type": "code",
      "execution_count": 4,
      "metadata": {
        "id": "3e_9Sg9boRMP",
        "colab": {
          "base_uri": "https://localhost:8080/",
          "height": 206
        },
        "outputId": "dabb0502-e014-4f6c-c615-43c68cc519ae"
      },
      "outputs": [
        {
          "output_type": "execute_result",
          "data": {
            "text/plain": [
              "   Sample  Probability of New Variant (NV) from the testing laboratory  \\\n",
              "0     1.0                                           0.340147             \n",
              "1     2.0                                           0.768768             \n",
              "2     3.0                                           0.927277             \n",
              "3     4.0                                           0.328154             \n",
              "4     5.0                                           0.283847             \n",
              "\n",
              "  Actual Class  \n",
              "0            O  \n",
              "1           NV  \n",
              "2           NV  \n",
              "3           NV  \n",
              "4            O  "
            ],
            "text/html": [
              "\n",
              "  <div id=\"df-d11464ec-b5a0-4e91-97e2-8d961d5bc24c\">\n",
              "    <div class=\"colab-df-container\">\n",
              "      <div>\n",
              "<style scoped>\n",
              "    .dataframe tbody tr th:only-of-type {\n",
              "        vertical-align: middle;\n",
              "    }\n",
              "\n",
              "    .dataframe tbody tr th {\n",
              "        vertical-align: top;\n",
              "    }\n",
              "\n",
              "    .dataframe thead th {\n",
              "        text-align: right;\n",
              "    }\n",
              "</style>\n",
              "<table border=\"1\" class=\"dataframe\">\n",
              "  <thead>\n",
              "    <tr style=\"text-align: right;\">\n",
              "      <th></th>\n",
              "      <th>Sample</th>\n",
              "      <th>Probability of New Variant (NV) from the testing laboratory</th>\n",
              "      <th>Actual Class</th>\n",
              "    </tr>\n",
              "  </thead>\n",
              "  <tbody>\n",
              "    <tr>\n",
              "      <th>0</th>\n",
              "      <td>1.0</td>\n",
              "      <td>0.340147</td>\n",
              "      <td>O</td>\n",
              "    </tr>\n",
              "    <tr>\n",
              "      <th>1</th>\n",
              "      <td>2.0</td>\n",
              "      <td>0.768768</td>\n",
              "      <td>NV</td>\n",
              "    </tr>\n",
              "    <tr>\n",
              "      <th>2</th>\n",
              "      <td>3.0</td>\n",
              "      <td>0.927277</td>\n",
              "      <td>NV</td>\n",
              "    </tr>\n",
              "    <tr>\n",
              "      <th>3</th>\n",
              "      <td>4.0</td>\n",
              "      <td>0.328154</td>\n",
              "      <td>NV</td>\n",
              "    </tr>\n",
              "    <tr>\n",
              "      <th>4</th>\n",
              "      <td>5.0</td>\n",
              "      <td>0.283847</td>\n",
              "      <td>O</td>\n",
              "    </tr>\n",
              "  </tbody>\n",
              "</table>\n",
              "</div>\n",
              "      <button class=\"colab-df-convert\" onclick=\"convertToInteractive('df-d11464ec-b5a0-4e91-97e2-8d961d5bc24c')\"\n",
              "              title=\"Convert this dataframe to an interactive table.\"\n",
              "              style=\"display:none;\">\n",
              "        \n",
              "  <svg xmlns=\"http://www.w3.org/2000/svg\" height=\"24px\"viewBox=\"0 0 24 24\"\n",
              "       width=\"24px\">\n",
              "    <path d=\"M0 0h24v24H0V0z\" fill=\"none\"/>\n",
              "    <path d=\"M18.56 5.44l.94 2.06.94-2.06 2.06-.94-2.06-.94-.94-2.06-.94 2.06-2.06.94zm-11 1L8.5 8.5l.94-2.06 2.06-.94-2.06-.94L8.5 2.5l-.94 2.06-2.06.94zm10 10l.94 2.06.94-2.06 2.06-.94-2.06-.94-.94-2.06-.94 2.06-2.06.94z\"/><path d=\"M17.41 7.96l-1.37-1.37c-.4-.4-.92-.59-1.43-.59-.52 0-1.04.2-1.43.59L10.3 9.45l-7.72 7.72c-.78.78-.78 2.05 0 2.83L4 21.41c.39.39.9.59 1.41.59.51 0 1.02-.2 1.41-.59l7.78-7.78 2.81-2.81c.8-.78.8-2.07 0-2.86zM5.41 20L4 18.59l7.72-7.72 1.47 1.35L5.41 20z\"/>\n",
              "  </svg>\n",
              "      </button>\n",
              "      \n",
              "  <style>\n",
              "    .colab-df-container {\n",
              "      display:flex;\n",
              "      flex-wrap:wrap;\n",
              "      gap: 12px;\n",
              "    }\n",
              "\n",
              "    .colab-df-convert {\n",
              "      background-color: #E8F0FE;\n",
              "      border: none;\n",
              "      border-radius: 50%;\n",
              "      cursor: pointer;\n",
              "      display: none;\n",
              "      fill: #1967D2;\n",
              "      height: 32px;\n",
              "      padding: 0 0 0 0;\n",
              "      width: 32px;\n",
              "    }\n",
              "\n",
              "    .colab-df-convert:hover {\n",
              "      background-color: #E2EBFA;\n",
              "      box-shadow: 0px 1px 2px rgba(60, 64, 67, 0.3), 0px 1px 3px 1px rgba(60, 64, 67, 0.15);\n",
              "      fill: #174EA6;\n",
              "    }\n",
              "\n",
              "    [theme=dark] .colab-df-convert {\n",
              "      background-color: #3B4455;\n",
              "      fill: #D2E3FC;\n",
              "    }\n",
              "\n",
              "    [theme=dark] .colab-df-convert:hover {\n",
              "      background-color: #434B5C;\n",
              "      box-shadow: 0px 1px 3px 1px rgba(0, 0, 0, 0.15);\n",
              "      filter: drop-shadow(0px 1px 2px rgba(0, 0, 0, 0.3));\n",
              "      fill: #FFFFFF;\n",
              "    }\n",
              "  </style>\n",
              "\n",
              "      <script>\n",
              "        const buttonEl =\n",
              "          document.querySelector('#df-d11464ec-b5a0-4e91-97e2-8d961d5bc24c button.colab-df-convert');\n",
              "        buttonEl.style.display =\n",
              "          google.colab.kernel.accessAllowed ? 'block' : 'none';\n",
              "\n",
              "        async function convertToInteractive(key) {\n",
              "          const element = document.querySelector('#df-d11464ec-b5a0-4e91-97e2-8d961d5bc24c');\n",
              "          const dataTable =\n",
              "            await google.colab.kernel.invokeFunction('convertToInteractive',\n",
              "                                                     [key], {});\n",
              "          if (!dataTable) return;\n",
              "\n",
              "          const docLinkHtml = 'Like what you see? Visit the ' +\n",
              "            '<a target=\"_blank\" href=https://colab.research.google.com/notebooks/data_table.ipynb>data table notebook</a>'\n",
              "            + ' to learn more about interactive tables.';\n",
              "          element.innerHTML = '';\n",
              "          dataTable['output_type'] = 'display_data';\n",
              "          await google.colab.output.renderOutput(dataTable, element);\n",
              "          const docLink = document.createElement('div');\n",
              "          docLink.innerHTML = docLinkHtml;\n",
              "          element.appendChild(docLink);\n",
              "        }\n",
              "      </script>\n",
              "    </div>\n",
              "  </div>\n",
              "  "
            ]
          },
          "metadata": {},
          "execution_count": 4
        }
      ],
      "source": [
        "url='https://docs.google.com/spreadsheets/d/1CKskUyOgNBXCSXcOCM48rC41dPGqh91_/edit?usp=sharing&ouid=109995719088802259723&rtpof=true&sd=true'\n",
        "url1='https://drive.google.com/uc?id=' + url.split('/')[-2]\n",
        "data = pd.read_excel(url1)\n",
        "data.head()"
      ]
    },
    {
      "cell_type": "code",
      "source": [
        "data.info()"
      ],
      "metadata": {
        "colab": {
          "base_uri": "https://localhost:8080/"
        },
        "id": "8qu335KlpVQv",
        "outputId": "6a45a55e-d4c9-4227-b597-11a10ab624d6"
      },
      "execution_count": 6,
      "outputs": [
        {
          "output_type": "stream",
          "name": "stdout",
          "text": [
            "<class 'pandas.core.frame.DataFrame'>\n",
            "RangeIndex: 34 entries, 0 to 33\n",
            "Data columns (total 4 columns):\n",
            " #   Column                                                       Non-Null Count  Dtype  \n",
            "---  ------                                                       --------------  -----  \n",
            " 0   Sample                                                       34 non-null     float64\n",
            " 1   Probability of New Variant (NV) from the testing laboratory  34 non-null     float64\n",
            " 2   Actual Class                                                 34 non-null     object \n",
            " 3   Predicted Class                                              34 non-null     int64  \n",
            "dtypes: float64(2), int64(1), object(1)\n",
            "memory usage: 1.2+ KB\n"
          ]
        }
      ]
    },
    {
      "cell_type": "code",
      "source": [
        "import pandas as pd\n",
        "import matplotlib.pyplot as plt\n",
        "import numpy as np\n",
        "\n",
        "# Load the data into a DataFrame\n",
        "#data = pd.read_csv('data.csv')\n",
        "\n",
        "# Define the cutoff values\n",
        "cutoff_values = [0, 0.2, 0.4, 0.5, 0.6, 0.8, 1]\n",
        "\n",
        "# Initialize an empty dictionary to store the sensitivity and specificity for each cutoff value\n",
        "results = {}\n",
        "\n",
        "# Loop over different cutoff values\n",
        "for cutoff in cutoff_values:\n",
        "    # Create a new column in the DataFrame to represent the predicted class based on the cutoff value\n",
        "    data['Predicted Class'] = data['Probability of New Variant (NV) from the testing laboratory'].apply(lambda x: 'O' if x >= cutoff else 'NV')\n",
        "    # Calculate the true positives, true negatives, false positives, and false negatives\n",
        "    tp = ((data['Actual Class'] == 'O') & (data['Predicted Class'] == 'O')).sum()\n",
        "    tn = ((data['Actual Class'] == 'NV') & (data['Predicted Class'] == 'NV')).sum()\n",
        "    fp = ((data['Actual Class'] == 'NV') & (data['Predicted Class'] == 'O')).sum()\n",
        "    fn = ((data['Actual Class'] == 'O') & (data['Predicted Class'] == 'NV')).sum()\n",
        "    # Calculate the sensitivity and specificity and store them in the dictionary\n",
        "    sensitivity = tp / (tp + fn)\n",
        "    specificity = tn / (tn + fp)\n",
        "    results[cutoff] = (sensitivity, specificity)\n",
        "\n",
        "# Extract the sensitivity and specificity values from the dictionary\n",
        "sensitivity_values = [results[c][0] for c in cutoff_values]\n",
        "specificity_values = [results[c][1] for c in cutoff_values]\n",
        "\n",
        "# Convert the lists to numpy arrays\n",
        "sensitivity_values = np.array(sensitivity_values)\n",
        "specificity_values = np.array(specificity_values)\n",
        "\n",
        "# Plot the ROC curve\n",
        "plt.plot([0, 1], [0, 1], linestyle='--', label='Random Guess')\n",
        "plt.plot(1 - specificity_values, sensitivity_values, marker='.', label='ROC Curve')\n",
        "plt.xlabel('False Positive Rate (1 - Specificity)')\n",
        "plt.ylabel('True Positive Rate (Sensitivity)')\n",
        "plt.title('ROC Curve for Omicron Variant Detection')\n",
        "plt.legend()\n",
        "\n",
        "# Print the sensitivity and specificity for each cutoff value\n",
        "for cutoff in cutoff_values:\n",
        "    print('Cutoff value:', cutoff)\n",
        "    print('Sensitivity:', results[cutoff][0])\n",
        "    print('Specificity:', results[cutoff][1])\n",
        "    print()\n",
        "\n",
        "# Find the cutoff value that balances sensitivity and specificity\n",
        "dists = np.sqrt((1 - specificity_values) ** 2 + sensitivity_values ** 2)\n",
        "optimal_cutoff = cutoff_values[np.argmin(dists)]\n",
        "print('Optimal cutoff value:', optimal_cutoff)\n"
      ],
      "metadata": {
        "colab": {
          "base_uri": "https://localhost:8080/",
          "height": 798
        },
        "id": "v5N16HtYaB8w",
        "outputId": "ce904c1d-f239-41c1-ded1-2f321e6dee70"
      },
      "execution_count": 10,
      "outputs": [
        {
          "output_type": "stream",
          "name": "stdout",
          "text": [
            "Cutoff value: 0\n",
            "Sensitivity: 1.0\n",
            "Specificity: 0.0\n",
            "\n",
            "Cutoff value: 0.2\n",
            "Sensitivity: 0.7368421052631579\n",
            "Specificity: 0.0\n",
            "\n",
            "Cutoff value: 0.4\n",
            "Sensitivity: 0.3157894736842105\n",
            "Specificity: 0.13333333333333333\n",
            "\n",
            "Cutoff value: 0.5\n",
            "Sensitivity: 0.21052631578947367\n",
            "Specificity: 0.26666666666666666\n",
            "\n",
            "Cutoff value: 0.6\n",
            "Sensitivity: 0.21052631578947367\n",
            "Specificity: 0.3333333333333333\n",
            "\n",
            "Cutoff value: 0.8\n",
            "Sensitivity: 0.10526315789473684\n",
            "Specificity: 0.6\n",
            "\n",
            "Cutoff value: 1\n",
            "Sensitivity: 0.0\n",
            "Specificity: 1.0\n",
            "\n",
            "Optimal cutoff value: 1\n"
          ]
        },
        {
          "output_type": "display_data",
          "data": {
            "text/plain": [
              "<Figure size 432x288 with 1 Axes>"
            ],
            "image/png": "[encoded data removed]"
          },
          "metadata": {
            "needs_background": "light"
          }
        }
      ]
    },
    {
      "cell_type": "code",
      "source": [
        "# Calculate the true positives, true negatives, false positives, and false negatives\n",
        "tp_default = ((data['Actual Class'] == 'O') & (data['Probability of New Variant (NV) from the testing laboratory'] >= 0.5)).sum()\n",
        "tn_default = ((data['Actual Class'] == 'NV') & (data['Probability of New Variant (NV) from the testing laboratory'] < 0.5)).sum()\n",
        "fp_default = ((data['Actual Class'] == 'NV') & (data['Probability of New Variant (NV) from the testing laboratory'] >= 0.5)).sum()\n",
        "fn_default = ((data['Actual Class'] == 'O') & (data['Probability of New Variant (NV) from the testing laboratory'] < 0.5)).sum()\n",
        "\n",
        "# Calculate the MCC\n",
        "mcc_default = (tp_default * tn_default - fp_default * fn_default) / np.sqrt((tp_default + fp_default) * (tp_default + fn_default) * (tn_default + fp_default) * (tn_default + fn_default))\n",
        "\n",
        "# Calculate the precision, recall, and F-score\n",
        "precision_default = tp_default / (tp_default + fp_default)\n",
        "recall_default = tp_default / (tp_default + fn_default)\n",
        "f1_score_default = 2 * precision_default * recall_default / (precision_default + recall_default)\n"
      ],
      "metadata": {
        "id": "RULy6Bl-a6B_"
      },
      "execution_count": 11,
      "outputs": []
    },
    {
      "cell_type": "code",
      "source": [
        "# Create a new column in the DataFrame to represent the predicted class based on the optimal cutoff value\n",
        "data['Predicted Class'] = data['Probability of New Variant (NV) from the testing laboratory'].apply(lambda x: 'O' if x >= optimal_cutoff else 'NV')\n",
        "\n",
        "# Calculate the true positives, true negatives, false positives, and false negatives\n",
        "tp_optimal = ((data['Actual Class'] == 'O') & (data['Predicted Class'] == 'O')).sum()\n",
        "tn_optimal = ((data['Actual Class'] == 'NV') & (data['Predicted Class'] == 'NV')).sum()\n",
        "fp_optimal = ((data['Actual Class'] == 'NV') & (data['Predicted Class'] == 'O')).sum()\n",
        "fn_optimal = ((data['Actual Class'] == 'O') & (data['Predicted Class'] == 'NV')).sum()\n",
        "\n",
        "# Calculate the MCC\n",
        "mcc_optimal = (tp_optimal * tn_optimal - fp_optimal * fn_optimal) / np.sqrt((tp_optimal + fp_optimal) * (tp_optimal + fn_optimal) * (tn_optimal + fp_optimal) * (tn_optimal + fn_optimal))\n",
        "\n",
        "# Calculate the precision, recall, and F-score\n",
        "precision_optimal = tp_optimal / (tp_optimal + fp_optimal)\n",
        "recall_optimal = tp_optimal / (tp_optimal + fn_optimal)\n",
        "f1_score_optimal = 2 * precision_optimal * recall_optimal / (precision_optimal + recall_optimal)\n"
      ],
      "metadata": {
        "colab": {
          "base_uri": "https://localhost:8080/"
        },
        "id": "ajnfM6IUa6Yh",
        "outputId": "1920946f-458f-484b-c2d2-725949047a6a"
      },
      "execution_count": 12,
      "outputs": [
        {
          "output_type": "stream",
          "name": "stderr",
          "text": [
            "<ipython-input-12-7699544e637a>:11: RuntimeWarning: invalid value encountered in true_divide\n",
            "  mcc_optimal = (tp_optimal * tn_optimal - fp_optimal * fn_optimal) / np.sqrt((tp_optimal + fp_optimal) * (tp_optimal + fn_optimal) * (tn_optimal + fp_optimal) * (tn_optimal + fn_optimal))\n",
            "<ipython-input-12-7699544e637a>:14: RuntimeWarning: invalid value encountered in long_scalars\n",
            "  precision_optimal = tp_optimal / (tp_optimal + fp_optimal)\n"
          ]
        }
      ]
    },
    {
      "cell_type": "code",
      "source": [
        "\n",
        "# Print the results\n",
        "print('Default Threshold (0.5)')\n",
        "print('MCC:', mcc_default)\n",
        "print('F-score:', f1_score_default)\n",
        "print()\n",
        "\n"
      ],
      "metadata": {
        "colab": {
          "base_uri": "https://localhost:8080/"
        },
        "id": "pXnxcTZybGgh",
        "outputId": "33aee695-6a98-41a9-b620-4b3c8a48bdd6"
      },
      "execution_count": 13,
      "outputs": [
        {
          "output_type": "stream",
          "name": "stdout",
          "text": [
            "Default Threshold (0.5)\n",
            "MCC: -0.5228070175438596\n",
            "F-score: 0.23529411764705882\n",
            "\n"
          ]
        }
      ]
    },
    {
      "cell_type": "code",
      "source": [],
      "metadata": {
        "id": "-56JLcx2bL8S"
      },
      "execution_count": null,
      "outputs": []
    }
  ]
}